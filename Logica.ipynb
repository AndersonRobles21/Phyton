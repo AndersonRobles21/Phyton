{
  "nbformat": 4,
  "nbformat_minor": 0,
  "metadata": {
    "colab": {
      "provenance": []
    },
    "kernelspec": {
      "name": "python3",
      "display_name": "Python 3"
    },
    "language_info": {
      "name": "python"
    }
  },
  "cells": [
    {
      "cell_type": "markdown",
      "source": [
        "# **🧩 Ejercicio 1: Sistema de riego inteligente**"
      ],
      "metadata": {
        "id": "fT6M1FKnN-v2"
      }
    },
    {
      "cell_type": "markdown",
      "source": [
        "Una finca agrícola desea automatizar el proceso de riego utilizando datos de humedad del suelo y pronóstico de lluvia. Se pide desarrollar un programa que analice los niveles de humedad diaria de una semana (expresados en porcentaje) y determine si es necesario activar el sistema de riego cada día. Para ello, el sistema debe considerar un umbral de humedad óptima y un margen de seguridad definidos como constantes, y evitar regar si se pronostica lluvia. El programa deberá recorrer los siete días de la semana con un bucle, aplicar condicionales para decidir cuándo regar y mostrar un resumen final con el número total de riegos realizados y el ahorro de agua estimado."
      ],
      "metadata": {
        "id": "ErVGMGk9ODQ8"
      }
    },
    {
      "cell_type": "code",
      "source": [
        "riegos_realizados = 0\n",
        "dias_sin_riego = 0\n",
        "\n",
        "\n",
        "HUMEDAD_OPTIMA = 60\n",
        "AHORRO_LITROS_POR_DIA = 20\n",
        "\n",
        "for dia in range(7):\n",
        "    print(f\"Día {dia + 1}:\")\n",
        "    humedad = int(input(\"Digite la humedad del suelo (%): \"))\n",
        "    lluvia = input(\"¿Se pronostica lluvia? (Sí/No): \")\n",
        "\n",
        "    if lluvia.lower() == \"si\":\n",
        "        print(\"No es necesario regar (se pronostica lluvia).\")\n",
        "        dias_sin_riego += 1\n",
        "    elif humedad < (HUMEDAD_OPTIMA):\n",
        "        print(\"Es necesario regar (la humedad es baja).\")\n",
        "        riegos_realizados += 1\n",
        "    else:\n",
        "        print(\"No es necesario regar (la humedad es adecuada).\")\n",
        "        dias_sin_riego += 1\n",
        "\n",
        "# Cálculo del ahorro\n",
        "ahorro_total = dias_sin_riego * AHORRO_LITROS_POR_DIA\n",
        "\n",
        "\n",
        "print(\"\\n--- RESUMEN SEMANAL ---\")\n",
        "print(f\"Días con riego realizado: {riegos_realizados}\")\n",
        "print(f\"Días sin riego: {dias_sin_riego}\")\n",
        "print(f\"Ahorro estimado de agua: {ahorro_total} litros\")\n"
      ],
      "metadata": {
        "colab": {
          "base_uri": "https://localhost:8080/"
        },
        "id": "k_LjT8tDQ1zd",
        "outputId": "7c624e17-39ec-4100-97ef-ad2d915a1e96"
      },
      "execution_count": 34,
      "outputs": [
        {
          "output_type": "stream",
          "name": "stdout",
          "text": [
            "Día 1:\n",
            "Digite la humedad del suelo (%): 10\n",
            "¿Se pronostica lluvia? (Sí/No): no\n",
            "Es necesario regar (la humedad es baja).\n",
            "Día 2:\n",
            "Digite la humedad del suelo (%): 10\n",
            "¿Se pronostica lluvia? (Sí/No): si\n",
            "No es necesario regar (se pronostica lluvia).\n",
            "Día 3:\n",
            "Digite la humedad del suelo (%): 30\n",
            "¿Se pronostica lluvia? (Sí/No): si\n",
            "No es necesario regar (se pronostica lluvia).\n",
            "Día 4:\n",
            "Digite la humedad del suelo (%): 60\n",
            "¿Se pronostica lluvia? (Sí/No): si\n",
            "No es necesario regar (se pronostica lluvia).\n",
            "Día 5:\n",
            "Digite la humedad del suelo (%): 40\n",
            "¿Se pronostica lluvia? (Sí/No): no\n",
            "Es necesario regar (la humedad es baja).\n",
            "Día 6:\n",
            "Digite la humedad del suelo (%): 30\n",
            "¿Se pronostica lluvia? (Sí/No): no\n",
            "Es necesario regar (la humedad es baja).\n",
            "Día 7:\n",
            "Digite la humedad del suelo (%): 53\n",
            "¿Se pronostica lluvia? (Sí/No): si\n",
            "No es necesario regar (se pronostica lluvia).\n",
            "\n",
            "--- RESUMEN SEMANAL ---\n",
            "Días con riego realizado: 3\n",
            "Días sin riego: 4\n",
            "Ahorro estimado de agua: 80 litros\n"
          ]
        }
      ]
    },
    {
      "cell_type": "markdown",
      "source": [
        "# **🍓 Ejercicio 2: Clasificación de calidad de cosecha**"
      ],
      "metadata": {
        "id": "vtE_YHIBc7Y4"
      }
    },
    {
      "cell_type": "markdown",
      "source": [
        "Una cooperativa frutícola necesita clasificar sus lotes de frutas según la calidad, en base al peso promedio y al porcentaje de piezas defectuosas. Se requiere crear un programa que, para varios lotes ingresados por el usuario, calcule el peso promedio de una muestra y determine el porcentaje de defectos. En función de estos valores, el sistema debe asignar una categoría: “A” para productos de alta calidad, “B” para calidad media y “Rechazo” para los que no cumplen los estándares. El programa debe usar funciones para los cálculos, bucles para procesar varios lotes y condicionales para establecer la categoría final, mostrando un reporte con los resultados."
      ],
      "metadata": {
        "id": "Ia2zsqbZdCRa"
      }
    },
    {
      "cell_type": "code",
      "source": [
        "def calcular_peso_promedio(pesos):\n",
        "    return sum(pesos) / len(pesos)\n",
        "\n",
        "def calcular_porcentaje_defectos(defectuosas, total):\n",
        "    return (defectuosas / total) * 100\n",
        "\n",
        "def clasificar_lote(peso_promedio, porcentaje_defectos):\n",
        "    if peso_promedio >= 180 and porcentaje_defectos < 30:\n",
        "        return \"A (Alta calidad)\"\n",
        "    elif 120 <= peso_promedio < 180 and 10 <= porcentaje_defectos <= 50:\n",
        "        return \"B (Calidad media)\"\n",
        "    else:\n",
        "        return \"Rechazo\"\n",
        "\n",
        "def main():\n",
        "    print(\"=== Clasificación de Lotes de Frutas ===\\n\")\n",
        "    num_lotes = int(input(\"¿Cuántos lotes desea evaluar? \"))\n",
        "\n",
        "    reporte = []\n",
        "\n",
        "    for i in range(num_lotes):\n",
        "        print(f\"\\n--- Lote #{i+1} ---\")\n",
        "        total_frutas = int(input(\"Ingrese el número total de frutas en la muestra: \"))\n",
        "\n",
        "        pesos = []\n",
        "        for j in range(total_frutas):\n",
        "            peso = float(input(f\"Peso de la fruta #{j+1} (en gramos): \"))\n",
        "            pesos.append(peso)\n",
        "\n",
        "        defectuosas = int(input(\"Ingrese cuántas frutas están defectuosas: \"))\n",
        "\n",
        "\n",
        "        peso_promedio = calcular_peso_promedio(pesos)\n",
        "        porcentaje_defectos = calcular_porcentaje_defectos(defectuosas, total_frutas)\n",
        "        categoria = clasificar_lote(peso_promedio, porcentaje_defectos)\n",
        "\n",
        "        reporte.append({\n",
        "            \"Lote\": i + 1,\n",
        "            \"Peso Promedio\": round(peso_promedio, 2),\n",
        "            \"Defectos (%)\": round(porcentaje_defectos, 2),\n",
        "            \"Categoría\": categoria\n",
        "        })\n",
        "\n",
        "\n",
        "    print(\"\\n=== REPORTE FINAL ===\")\n",
        "    for lote in reporte:\n",
        "        print(f\"Lote {lote['Lote']}: Peso Promedio = {lote['Peso Promedio']} g | \"\n",
        "              f\"Defectos = {lote['Defectos (%)']}% | Categoría = {lote['Categoría']}\")\n",
        "\n",
        "main()\n"
      ],
      "metadata": {
        "colab": {
          "base_uri": "https://localhost:8080/"
        },
        "id": "US4mnksrgKPn",
        "outputId": "2383adb5-9efc-44a0-cf3e-f58ce556bcd1"
      },
      "execution_count": 2,
      "outputs": [
        {
          "output_type": "stream",
          "name": "stdout",
          "text": [
            "=== Clasificación de Lotes de Frutas ===\n",
            "\n",
            "¿Cuántos lotes desea evaluar? 1\n",
            "\n",
            "--- Lote #1 ---\n",
            "Ingrese el número total de frutas en la muestra: 1\n",
            "Peso de la fruta #1 (en gramos): 2500\n",
            "Ingrese cuántas frutas están defectuosas: 4\n",
            "\n",
            "=== REPORTE FINAL ===\n",
            "Lote 1: Peso Promedio = 2500.0 g | Defectos = 400.0% | Categoría = Rechazo\n"
          ]
        }
      ]
    },
    {
      "cell_type": "markdown",
      "source": [
        "# **🌾 Ejercicio 3: Planificación de rotación de cultivos**"
      ],
      "metadata": {
        "id": "IQsSih6NnPQE"
      }
    },
    {
      "cell_type": "markdown",
      "source": [
        "Un ingeniero agrónomo busca diseñar una herramienta que ayude a planificar la rotación de cultivos durante el año y calcular el consumo total de nitrógeno (N) en el suelo. El programa deberá recibir una lista con los cultivos sembrados cada mes (por ejemplo, maíz, soya, trigo o descanso) y usar constantes que indiquen el consumo mensual de nitrógeno por cultivo. Mediante funciones, el sistema debe sumar el consumo total de N y verificar si existen más de tres meses consecutivos del mismo cultivo, recomendando alternar con un cultivo diferente o un período de descanso."
      ],
      "metadata": {
        "id": "UhwGhvwpnUaL"
      }
    },
    {
      "cell_type": "code",
      "source": [
        "CONSUMO_N = {\n",
        "    \"maiz\": 30, #los numeros son la cantidad de nitrogeno\n",
        "    \"soya\": 20,\n",
        "    \"trigo\": 25,\n",
        "    \"descanso\": 0\n",
        "}\n",
        "\n",
        "def calcular_consumo_total(cultivos):\n",
        "    total = 0\n",
        "    for cultivo in cultivos:\n",
        "        total += CONSUMO_N.get(cultivo.lower(), 0)\n",
        "    return total\n",
        "\n",
        "\n",
        "def verificar_rotacion(cultivos):\n",
        "    consecutivos = 1\n",
        "    for i in range(1, len(cultivos)):\n",
        "        if cultivos[i].lower() == cultivos[i-1].lower():\n",
        "            consecutivos += 1\n",
        "            if consecutivos > 3:\n",
        "                return f\"Atención: más de 3 meses consecutivos con {cultivos[i]}. Se recomienda alternar o descansar.\"\n",
        "        else:\n",
        "            consecutivos = 1\n",
        "    return \"Buena rotación de cultivos.\"\n",
        "\n",
        "\n",
        "def main():\n",
        "    meses = [\"Enero\", \"Febrero\", \"Marzo\", \"Abril\", \"Mayo\", \"Junio\",\n",
        "             \"Julio\", \"Agosto\", \"Septiembre\", \"Octubre\", \"Noviembre\", \"Diciembre\"]\n",
        "\n",
        "    cultivos = []\n",
        "    print(\"Planificación de cultivos (opciones: maiz, soya, trigo, descanso)\\n\")\n",
        "\n",
        "    for mes in meses:\n",
        "        cultivo = input(f\"Ingrese el cultivo para {mes}: \").strip().lower()\n",
        "        while cultivo not in CONSUMO_N:\n",
        "            print(\" Cultivo no válido. Intente de nuevo (maíz, soya, trigo o descanso).\")\n",
        "            cultivo = input(f\"Ingrese el cultivo para {mes}: \").strip().lower()\n",
        "        cultivos.append(cultivo)\n",
        "\n",
        "    total_n = calcular_consumo_total(cultivos)\n",
        "\n",
        "    print(\"\\n--- RESULTADOS ---\")\n",
        "    print(\"Cultivos del año:\", cultivos)\n",
        "    print(\"Consumo total de nitrógeno:\", total_n, \"kg/ha\")\n",
        "    print(verificar_rotacion(cultivos))\n",
        "\n",
        "\n",
        "main()\n"
      ],
      "metadata": {
        "colab": {
          "base_uri": "https://localhost:8080/"
        },
        "id": "qIS_V551npCA",
        "outputId": "2c5e1636-4a5d-42fd-e7b7-7cd58bb5862c"
      },
      "execution_count": 57,
      "outputs": [
        {
          "output_type": "stream",
          "name": "stdout",
          "text": [
            "Planificación de cultivos (opciones: maiz, soya, trigo, descanso)\n",
            "\n",
            "Ingrese el cultivo para Enero: miaz\n",
            " Cultivo no válido. Intente de nuevo (maíz, soya, trigo o descanso).\n",
            "Ingrese el cultivo para Enero: maiz\n",
            "Ingrese el cultivo para Febrero: maiz\n",
            "Ingrese el cultivo para Marzo: maiz\n",
            "Ingrese el cultivo para Abril: maiz\n",
            "Ingrese el cultivo para Mayo: maiz\n",
            "Ingrese el cultivo para Junio: maiz\n",
            "Ingrese el cultivo para Julio: soya\n",
            "Ingrese el cultivo para Agosto: soya\n",
            "Ingrese el cultivo para Septiembre: trigo\n",
            "Ingrese el cultivo para Octubre: descanso\n",
            "Ingrese el cultivo para Noviembre: soya\n",
            "Ingrese el cultivo para Diciembre: soya\n",
            "\n",
            "--- RESULTADOS ---\n",
            "Cultivos del año: ['maiz', 'maiz', 'maiz', 'maiz', 'maiz', 'maiz', 'soya', 'soya', 'trigo', 'descanso', 'soya', 'soya']\n",
            "Consumo total de nitrógeno: 285 kg/ha\n",
            "Atención: más de 3 meses consecutivos con maiz. Se recomienda alternar o descansar.\n"
          ]
        }
      ]
    },
    {
      "cell_type": "markdown",
      "source": [
        "# **💻 Ejercicio 4: Control de inventario de un software agrícola**"
      ],
      "metadata": {
        "id": "zWB8yVthpvTb"
      }
    },
    {
      "cell_type": "markdown",
      "source": [
        "Una empresa que desarrolla software para el agro necesita un módulo que controle el inventario de insumos (fertilizantes, semillas, pesticidas). El programa debe permitir registrar la cantidad inicial de cada producto y simular la salida de unidades según las ventas semanales. Con el uso de bucles y condicionales, el sistema debe actualizar los valores y emitir una alerta cuando algún producto quede por debajo de un nivel mínimo definido como constante. Además, se debe incluir una función que calcule el valor total del inventario restante y muestre un reporte con el stock actualizado."
      ],
      "metadata": {
        "id": "ZlBdH8A0pzSK"
      }
    },
    {
      "cell_type": "code",
      "source": [
        "NIVEL_MINIMO = 10\n",
        "\n",
        "\n",
        "def registrar_inventario():\n",
        "    inventario = {\n",
        "        \"fertilizantes\": {\"cantidad\": 0, \"precio\": 0.0},\n",
        "        \"semillas\": {\"cantidad\": 0, \"precio\": 0.0},\n",
        "        \"pesticidas\": {\"cantidad\": 0, \"precio\": 0.0}\n",
        "    }\n",
        "\n",
        "    print(\"=== REGISTRO DE INVENTARIO INICIAL ===\")\n",
        "    for producto in inventario:\n",
        "        inventario[producto][\"cantidad\"] = int(input(f\"Ingrese cantidad inicial de {producto}: \"))\n",
        "        inventario[producto][\"precio\"] = float(input(f\"Ingrese precio unitario de {producto}: \"))\n",
        "\n",
        "    return inventario\n",
        "\n",
        "def ventas_semanales(inventario):\n",
        "    print(\"\\n=== REGISTRO DE VENTAS SEMANALES ===\")\n",
        "    for producto in inventario:\n",
        "        venta = int(input(f\"Unidades vendidas de {producto}: \"))\n",
        "        inventario[producto][\"cantidad\"] -= venta\n",
        "\n",
        "        if inventario[producto][\"cantidad\"] < 0:\n",
        "            inventario[producto][\"cantidad\"] = 0\n",
        "    return inventario\n",
        "\n",
        "\n",
        "def calcular_valor_total(inventario):\n",
        "    total = 0\n",
        "    for producto, datos in inventario.items():\n",
        "        total += datos[\"cantidad\"] * datos[\"precio\"]\n",
        "    return total\n",
        "\n",
        "\n",
        "def mostrar_reporte(inventario):\n",
        "    print(\"\\n=== REPORTE DE INVENTARIO ACTUALIZADO ===\")\n",
        "    for producto, datos in inventario.items():\n",
        "        cantidad = datos[\"cantidad\"]\n",
        "        print(f\"{producto.capitalize()}: {cantidad} unidades restantes.\")\n",
        "        if cantidad < NIVEL_MINIMO:\n",
        "            print(f\"ALERTA: El stock de {producto} está por debajo del nivel mínimo ({NIVEL_MINIMO}).\")\n",
        "    print(f\"\\n Valor total del inventario: ${calcular_valor_total(inventario):,.2f}\")\n",
        "\n",
        "\n",
        "def main():\n",
        "    inventario = registrar_inventario()\n",
        "\n",
        "    continuar = \"s\"\n",
        "    while continuar.lower() == \"s\":\n",
        "        inventario = ventas_semanales(inventario)\n",
        "        mostrar_reporte(inventario)\n",
        "        continuar = input(\"\\n¿Desea registrar otra semana de ventas? (s/n): \")\n",
        "\n",
        "main()\n"
      ],
      "metadata": {
        "colab": {
          "base_uri": "https://localhost:8080/"
        },
        "id": "UC0qgz7EuKQA",
        "outputId": "33cc536e-dceb-4dbd-935b-d403a4f0dc71"
      },
      "execution_count": 1,
      "outputs": [
        {
          "output_type": "stream",
          "name": "stdout",
          "text": [
            "=== REGISTRO DE INVENTARIO INICIAL ===\n",
            "Ingrese cantidad inicial de fertilizantes: 50\n",
            "Ingrese precio unitario de fertilizantes: 2500\n",
            "Ingrese cantidad inicial de semillas: 50\n",
            "Ingrese precio unitario de semillas: 1000\n",
            "Ingrese cantidad inicial de pesticidas: 60\n",
            "Ingrese precio unitario de pesticidas: 2000\n",
            "\n",
            "=== REGISTRO DE VENTAS SEMANALES ===\n",
            "Unidades vendidas de fertilizantes: 6\n",
            "Unidades vendidas de semillas: 5\n",
            "Unidades vendidas de pesticidas: 7\n",
            "\n",
            "=== REPORTE DE INVENTARIO ACTUALIZADO ===\n",
            "Fertilizantes: 44 unidades restantes.\n",
            "Semillas: 45 unidades restantes.\n",
            "Pesticidas: 53 unidades restantes.\n",
            "\n",
            "💰 Valor total del inventario: $261,000.00\n",
            "\n",
            "¿Desea registrar otra semana de ventas? (s/n): n\n",
            "\n",
            "Programa finalizado. ✅\n"
          ]
        }
      ]
    },
    {
      "cell_type": "markdown",
      "source": [
        "# **⚙️ Ejercicio 5: Evaluación de desempeño de maquinaria**"
      ],
      "metadata": {
        "id": "tGbGd8invxlK"
      }
    },
    {
      "cell_type": "markdown",
      "source": [
        "Una cooperativa agrícola quiere medir el rendimiento de sus tractores en campo. Crea un programa que permita ingresar los datos de varios tractores: horas trabajadas, litros de combustible consumidos y superficie cubierta. El programa debe calcular el rendimiento por hora y el consumo de combustible por hectárea. Mediante condicionales, debe clasificar el desempeño como “Excelente”, “Aceptable” o “Deficiente”, según los valores obtenidos. Usa funciones para los cálculos, bucles para procesar varios tractores y constantes para los límites de clasificación. Finalmente, muestra un informe con los resultados de cada máquina."
      ],
      "metadata": {
        "id": "p3xDvsZcv1h8"
      }
    },
    {
      "cell_type": "code",
      "source": [
        "RENDIMIENTO_EXCELENTE = 1.0     # hectáreas por hora o más\n",
        "RENDIMIENTO_ACEPTABLE = 0.6     # entre 0.6 y 0.99 ha/h\n",
        "CONSUMO_EXCELENTE = 10.0        # litros por hectárea o menos\n",
        "CONSUMO_ACEPTABLE = 15.0        # entre 10 y 15 L/ha\n",
        "\n",
        "def calcular_rendimiento(superficie, horas):\n",
        "    if horas == 0:\n",
        "        return 0\n",
        "    return superficie / horas\n",
        "\n",
        "def calcular_consumo(litros, superficie):\n",
        "    if superficie == 0:\n",
        "        return 0\n",
        "    return litros / superficie\n",
        "\n",
        "def clasificar_desempeno(rendimiento, consumo):\n",
        "    if rendimiento >= RENDIMIENTO_EXCELENTE and consumo <= CONSUMO_EXCELENTE:\n",
        "        return \"Excelente\"\n",
        "    elif rendimiento >= RENDIMIENTO_ACEPTABLE and consumo <= CONSUMO_ACEPTABLE:\n",
        "        return \"Aceptable\"\n",
        "    else:\n",
        "        return \"Deficiente\"\n",
        "\n",
        "def main():\n",
        "    print(\"=== CONTROL DE RENDIMIENTO DE TRACTORES ===\")\n",
        "    tractores = []\n",
        "    n = int(input(\"Ingrese la cantidad de tractores a evaluar: \"))\n",
        "\n",
        "    for i in range(n):\n",
        "        print(f\"\\n--- Tractor #{i+1} ---\")\n",
        "        horas = float(input(\"Horas trabajadas: \"))\n",
        "        combustible = float(input(\"Litros de combustible consumidos: \"))\n",
        "        superficie = float(input(\"Superficie cubierta (hectáreas): \"))\n",
        "\n",
        "        rendimiento = calcular_rendimiento(superficie, horas)\n",
        "        consumo = calcular_consumo(combustible, superficie)\n",
        "        desempeno = clasificar_desempeno(rendimiento, consumo)\n",
        "\n",
        "        tractor = {\n",
        "            \"id\": i+1,\n",
        "            \"horas\": horas,\n",
        "            \"combustible\": combustible,\n",
        "            \"superficie\": superficie,\n",
        "            \"rendimiento\": rendimiento,\n",
        "            \"consumo\": consumo,\n",
        "            \"desempeno\": desempeno\n",
        "        }\n",
        "        tractores.append(tractor)\n",
        "\n",
        "    print(\"\\n=== INFORME DE DESEMPEÑO ===\")\n",
        "    for t in tractores:\n",
        "        print(f\"\\nTractor #{t['id']}:\")\n",
        "        print(f\"  Horas trabajadas: {t['horas']}\")\n",
        "        print(f\"  Superficie cubierta: {t['superficie']} ha\")\n",
        "        print(f\"  Combustible consumido: {t['combustible']} L\")\n",
        "        print(f\"  Rendimiento: {t['rendimiento']:.2f} ha/h\")\n",
        "        print(f\"  Consumo: {t['consumo']:.2f} L/ha\")\n",
        "        print(f\"  Clasificación: {t['desempeno']}\")\n",
        "\n",
        "\n",
        "main()"
      ],
      "metadata": {
        "colab": {
          "base_uri": "https://localhost:8080/"
        },
        "id": "XH4aUFqQxhaf",
        "outputId": "284c44b0-866e-453a-bf9e-c88305713dfd"
      },
      "execution_count": 4,
      "outputs": [
        {
          "output_type": "stream",
          "name": "stdout",
          "text": [
            "=== CONTROL DE RENDIMIENTO DE TRACTORES ===\n",
            "Ingrese la cantidad de tractores a evaluar: 2\n",
            "\n",
            "--- Tractor #1 ---\n",
            "Horas trabajadas: 8\n",
            "Litros de combustible consumidos: 15\n",
            "Superficie cubierta (hectáreas): 5\n",
            "\n",
            "--- Tractor #2 ---\n",
            "Horas trabajadas: 5\n",
            "Litros de combustible consumidos: 5\n",
            "Superficie cubierta (hectáreas): 5\n",
            "\n",
            "=== INFORME DE DESEMPEÑO ===\n",
            "\n",
            "Tractor #1:\n",
            "  Horas trabajadas: 8.0\n",
            "  Superficie cubierta: 5.0 ha\n",
            "  Combustible consumido: 15.0 L\n",
            "  Rendimiento: 0.62 ha/h\n",
            "  Consumo: 3.00 L/ha\n",
            "  Clasificación: Aceptable\n",
            "\n",
            "Tractor #2:\n",
            "  Horas trabajadas: 5.0\n",
            "  Superficie cubierta: 5.0 ha\n",
            "  Combustible consumido: 5.0 L\n",
            "  Rendimiento: 1.00 ha/h\n",
            "  Consumo: 1.00 L/ha\n",
            "  Clasificación: Excelente\n"
          ]
        }
      ]
    }
  ]
}