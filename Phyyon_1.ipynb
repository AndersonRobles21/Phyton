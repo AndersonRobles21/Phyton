{
  "nbformat": 4,
  "nbformat_minor": 0,
  "metadata": {
    "colab": {
      "provenance": [],
      "authorship_tag": "ABX9TyPMSS1e7sLL3djZUQdBk7sM",
      "include_colab_link": true
    },
    "kernelspec": {
      "name": "python3",
      "display_name": "Python 3"
    },
    "language_info": {
      "name": "python"
    }
  },
  "cells": [
    {
      "cell_type": "markdown",
      "metadata": {
        "id": "view-in-github",
        "colab_type": "text"
      },
      "source": [
        "<a href=\"https://colab.research.google.com/github/AndersonRobles21/Phyton/blob/main/Phyyon_1.ipynb\" target=\"_parent\"><img src=\"https://colab.research.google.com/assets/colab-badge.svg\" alt=\"Open In Colab\"/></a>"
      ]
    },
    {
      "cell_type": "code",
      "execution_count": null,
      "metadata": {
        "id": "uWmpoHaEoqhX"
      },
      "outputs": [],
      "source": []
    },
    {
      "cell_type": "markdown",
      "source": [
        "# Primeros conceptos de Phyton\n",
        "`Varibles`\n",
        "\n",
        "\n"
      ],
      "metadata": {
        "id": "gmujOTX4puEd"
      }
    },
    {
      "cell_type": "code",
      "source": [
        "print(\"Conceptos basicos Phyton\")\n",
        "print(\"Varibales\")"
      ],
      "metadata": {
        "colab": {
          "base_uri": "https://localhost:8080/"
        },
        "id": "dMkSyGz6qIV5",
        "outputId": "bd9453ed-517a-475a-ae1f-ee4a17c53de6"
      },
      "execution_count": null,
      "outputs": [
        {
          "output_type": "stream",
          "name": "stdout",
          "text": [
            "Conceptos basicos Phyton\n",
            "Varibales\n"
          ]
        }
      ]
    },
    {
      "cell_type": "code",
      "source": [
        "print(\"Hola\")"
      ],
      "metadata": {
        "colab": {
          "base_uri": "https://localhost:8080/"
        },
        "id": "7rMzVikzrTTt",
        "outputId": "1d017a8c-9303-4731-89dd-acec2b4316a3"
      },
      "execution_count": null,
      "outputs": [
        {
          "output_type": "stream",
          "name": "stdout",
          "text": [
            "Hola\n"
          ]
        }
      ]
    },
    {
      "cell_type": "code",
      "source": [
        "numero_telefonico: str = \"3104787055\"\n",
        "num_pi: float = 3.14199505\n",
        "matriculado: bool = True\n",
        "cantidad_alumnos: int = 32"
      ],
      "metadata": {
        "id": "obZmRyiJrzHD"
      },
      "execution_count": null,
      "outputs": []
    },
    {
      "cell_type": "code",
      "source": [
        "print(numero_telefonico)"
      ],
      "metadata": {
        "colab": {
          "base_uri": "https://localhost:8080/"
        },
        "id": "twO0BO2CuFnj",
        "outputId": "739f93a8-fed9-4e69-8d4c-c23e40de4dbb"
      },
      "execution_count": null,
      "outputs": [
        {
          "output_type": "stream",
          "name": "stdout",
          "text": [
            "3104787055\n"
          ]
        }
      ]
    },
    {
      "cell_type": "code",
      "source": [
        "telefono = 310\n",
        "fi = 3.16\n",
        "aprobado = False\n",
        "cantidad = 20\n",
        "\n",
        "\n",
        "print(type(telefono))\n",
        "print(type(fi))\n",
        "print(type(aprobado))\n",
        "print(type(cantidad))\n"
      ],
      "metadata": {
        "colab": {
          "base_uri": "https://localhost:8080/"
        },
        "id": "N3dbjhw0u76u",
        "outputId": "246a38c3-7263-4897-9957-010c0a6018ea"
      },
      "execution_count": null,
      "outputs": [
        {
          "output_type": "stream",
          "name": "stdout",
          "text": [
            "<class 'int'>\n",
            "<class 'float'>\n",
            "<class 'bool'>\n",
            "<class 'int'>\n"
          ]
        }
      ]
    },
    {
      "cell_type": "code",
      "source": [
        "def suma(a, b):\n",
        " return a + b"
      ],
      "metadata": {
        "id": "LTxktIBFweS8"
      },
      "execution_count": null,
      "outputs": []
    },
    {
      "cell_type": "code",
      "source": [
        "a = 5\n",
        "if a > 10:\n",
        "  print(\"a es mayor\")\n",
        "else:\n",
        "    print(\"es menor\")\n"
      ],
      "metadata": {
        "colab": {
          "base_uri": "https://localhost:8080/"
        },
        "id": "OPeFBCHmw6Qd",
        "outputId": "42c9174a-da8c-4eea-8094-7cb18f017b82"
      },
      "execution_count": null,
      "outputs": [
        {
          "output_type": "stream",
          "name": "stdout",
          "text": [
            "es menor\n"
          ]
        }
      ]
    },
    {
      "cell_type": "code",
      "source": [
        "# madakaker\n",
        "\"\"\"\n",
        "si\n",
        "\"\"\""
      ],
      "metadata": {
        "colab": {
          "base_uri": "https://localhost:8080/",
          "height": 36
        },
        "id": "_np62lvWyN5w",
        "outputId": "ec6e45ff-c044-417e-dd7d-900257fc7be3"
      },
      "execution_count": null,
      "outputs": [
        {
          "output_type": "execute_result",
          "data": {
            "text/plain": [
              "'\\nsi\\n'"
            ],
            "application/vnd.google.colaboratory.intrinsic+json": {
              "type": "string"
            }
          },
          "metadata": {},
          "execution_count": 57
        }
      ]
    },
    {
      "cell_type": "markdown",
      "source": [
        "Un empresa desea automatizar el calculo0 del salario neto de sus empleados\n",
        "cada empleado tiene un nombre y un cargo y un salario base el salario neto depende de las siguientes condiciones\n",
        "1 si el empleado gana menos de 1500 dolares resive un bono del 10% de su salario base\n",
        "2 si el empleado gana entre 1500 dolares y 3000 dolares no recibe bono ni descuento adiccional\n",
        "3 si el empleado gana mas de 3000 dolares se le aplica un descuento del 8% de descuento por retecion de la fuente\n",
        "4 todos los empelados reciben un bono fijo por 100 dolares\n",
        "\n",
        "condiciones de la entrega\n",
        "utilizar todos los tipos de varibles primitivo hacer uso de la estrutura de control de flujo condicional y debe tener al menos una funcion"
      ],
      "metadata": {
        "id": "Z2AB5CA40Z3t"
      }
    },
    {
      "cell_type": "code",
      "source": [
        "# aca estamos creando las tres variables importantes y necesarias\n",
        "nombre_empleado = \"Anderson\"\n",
        "cargo_empleado = \"Ingeniero\"\n",
        "salario_base = 1000\n",
        "#esta es la funcion para calcular el salario neto\n",
        "def calcular_salario_neto(nombre, cargo, salario_base):\n",
        "    bono_fijo = 100 #bono fijo que se agrega\n",
        "    salario_neto = salario_base #el salario neto es el salario base que se saca con la condicional\n",
        "#en esta condicional se hace la suma o la resta al salario base y despues se le asigna el resultado al salario base\n",
        "    if salario_base < 1500:\n",
        "        bono_porcentaje = 0.10\n",
        "        salario_neto = salario_neto + (salario_base * bono_porcentaje + bono_fijo)\n",
        "    elif salario_base > 3000:\n",
        "        descuento = 0.08\n",
        "        salario_neto = salario_neto - (salario_base * descuento + bono_fijo)\n",
        "\n",
        "    return salario_neto\n",
        "#y aca estoy llamando la funcion\n",
        "salario_neto = calcular_salario_neto(nombre_empleado, cargo_empleado, salario_base)\n",
        "print(\"El salario neto de \" + nombre_empleado + \" (\" + cargo_empleado + \")\" + \" es: \" + str(salario_neto))#aca no se porque me pedia que lo tipara :,v"
      ],
      "metadata": {
        "colab": {
          "base_uri": "https://localhost:8080/"
        },
        "id": "YIWrKLh40UJu",
        "outputId": "a05638e9-e3ce-4c96-b7d7-9f2058b15638"
      },
      "execution_count": null,
      "outputs": [
        {
          "output_type": "stream",
          "name": "stdout",
          "text": [
            "El salario neto de Anderson (Ingeniero) es: 5420.0\n"
          ]
        }
      ]
    }
  ]
}
