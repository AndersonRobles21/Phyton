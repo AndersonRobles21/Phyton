{
  "nbformat": 4,
  "nbformat_minor": 0,
  "metadata": {
    "colab": {
      "provenance": []
    },
    "kernelspec": {
      "name": "python3",
      "display_name": "Python 3"
    },
    "language_info": {
      "name": "python"
    }
  },
  "cells": [
    {
      "cell_type": "markdown",
      "source": [
        "# **Python List/Array Methods**"
      ],
      "metadata": {
        "id": "HaxyOZ06rzH2"
      }
    },
    {
      "cell_type": "markdown",
      "source": [
        "append()\tAgrega un elemento al final de la lista"
      ],
      "metadata": {
        "id": "Cfg9jdeiR5JK"
      }
    },
    {
      "cell_type": "code",
      "source": [
        "#lista normal\n",
        "lista_Supermercado = [\"Arroz\"]\n",
        "\n",
        "print(lista_Supermercado)\n",
        "\n",
        "lista_Supermercado.append (\"Leche\")\n",
        "\n",
        "print(lista_Supermercado)\n",
        "\n",
        "lista_Supermercado.append (\"Huevos\")\n",
        "\n",
        "print(lista_Supermercado)\n",
        "lista_Supermercado.append (\"Pan\")\n",
        "\n",
        "print(lista_Supermercado)"
      ],
      "metadata": {
        "colab": {
          "base_uri": "https://localhost:8080/"
        },
        "id": "dG8tqAVqSsc1",
        "outputId": "0182507b-c86b-4afd-a546-a1cb09fcf653"
      },
      "execution_count": null,
      "outputs": [
        {
          "output_type": "stream",
          "name": "stdout",
          "text": [
            "['Arroz']\n",
            "['Arroz', 'Leche']\n",
            "['Arroz', 'Leche', 'Huevos']\n",
            "['Arroz', 'Leche', 'Huevos', 'Pan']\n"
          ]
        }
      ]
    },
    {
      "cell_type": "markdown",
      "source": [
        "clear() Elimina todos los elementos de la lista\n",
        "\n"
      ],
      "metadata": {
        "id": "JaPkEd9PV8Zy"
      }
    },
    {
      "cell_type": "code",
      "source": [
        "lista_Utiles = [\"Cuaderno\", \"Lapiz\", \"Borrador\"]\n",
        "print(lista_Utiles)\n",
        "lista_Utiles.clear()\n",
        "print(lista_Utiles)\n",
        "\n",
        "colores = [\"rojo\", \"amarillo\", \"verde\"]\n",
        "print(colores)\n",
        "colores.clear()\n",
        "print(colores)\n",
        "\n",
        "Tussi = [\"keta\", \"Pilas\", \"Acidos\"]\n",
        "print(Tussi)\n",
        "Tussi.clear()\n",
        "print(Tussi)"
      ],
      "metadata": {
        "colab": {
          "base_uri": "https://localhost:8080/"
        },
        "id": "f2KUF-z3WGgT",
        "outputId": "41e38c83-abd2-4eb7-d632-d11cb48a689d"
      },
      "execution_count": null,
      "outputs": [
        {
          "output_type": "stream",
          "name": "stdout",
          "text": [
            "['Cuaderno', 'Lapiz', 'Borrador']\n",
            "[]\n",
            "['rojo', 'amarillo', 'verde']\n",
            "[]\n",
            "['keta', 'Pilas', 'Acidos']\n",
            "[]\n"
          ]
        }
      ]
    },
    {
      "cell_type": "markdown",
      "source": [
        "copy() Devuelve una copia de la lista"
      ],
      "metadata": {
        "id": "gLXAS92cXp-b"
      }
    },
    {
      "cell_type": "code",
      "source": [
        "colores = [\"rojo\", \"verde\", \"azul\"]\n",
        "colores_copia = colores.copy()\n",
        "colores.clear()\n",
        "print(\"Lista original:\", colores)\n",
        "print(\"Copia de la lista:\", colores_copia)\n",
        "\n",
        "lista_Utiles = [\"Cuaderno\", \"Lapiz\", \"Borrador\"]\n",
        "lista_Utiles_copia = lista_Utiles.copy()\n",
        "lista_Utiles.clear()\n",
        "print(\"Lista original:\", lista_Utiles)\n",
        "print(\"Copia de la lista:\", lista_Utiles_copia)\n",
        "\n",
        "Tussi = [\"keta\", \"Pilas\", \"Acidos\"]\n",
        "Tussi_copia = Tussi.copy()\n",
        "Tussi.clear()\n",
        "print(\"Lista original:\", Tussi)\n",
        "print(\"Copia de la lista:\", Tussi_copia)"
      ],
      "metadata": {
        "id": "XMsZVSLraAtA",
        "colab": {
          "base_uri": "https://localhost:8080/"
        },
        "outputId": "42597b07-5bde-49b1-90a3-741d4b1d1686"
      },
      "execution_count": null,
      "outputs": [
        {
          "output_type": "stream",
          "name": "stdout",
          "text": [
            "Lista original: []\n",
            "Copia de la lista: ['rojo', 'verde', 'azul']\n",
            "Lista original: []\n",
            "Copia de la lista: ['Cuaderno', 'Lapiz', 'Borrador']\n",
            "Lista original: []\n",
            "Copia de la lista: ['keta', 'Pilas', 'Acidos']\n"
          ]
        }
      ]
    },
    {
      "cell_type": "markdown",
      "source": [
        "count() Devuelve el número de elementos con el valor especificado"
      ],
      "metadata": {
        "id": "QFMZHufUcCBl"
      }
    },
    {
      "cell_type": "code",
      "source": [
        "Estudiantes = [\"Anderson\", \"Pedro\", \"Anderson\"]\n",
        "print(Estudiantes.count(\"Anderson\"))\n",
        "\n",
        "Medicamentos = [\"Acetaminofen\", \"Advil\", \"Acetaminofen\"]\n",
        "print(Medicamentos.count(\"Advil\"))\n",
        "\n",
        "Animales = [\"Gato\", \"Perro\", \"Gato\", \"Gato\"]\n",
        "print(Animales.count(\"Gato\"))"
      ],
      "metadata": {
        "colab": {
          "base_uri": "https://localhost:8080/"
        },
        "id": "ouAml_dacE5W",
        "outputId": "6cfbd42e-35c3-4f0d-9596-74b402cd03ca"
      },
      "execution_count": null,
      "outputs": [
        {
          "output_type": "stream",
          "name": "stdout",
          "text": [
            "2\n",
            "1\n",
            "3\n"
          ]
        }
      ]
    },
    {
      "cell_type": "markdown",
      "source": [
        "extend() Agrega los elementos de una lista (o cualquier iterable), al final de la lista actual"
      ],
      "metadata": {
        "id": "h49aFf11dSAo"
      }
    },
    {
      "cell_type": "code",
      "source": [
        "lista_Supermercado = [\"Arroz\"]\n",
        "\n",
        "print(lista_Supermercado)\n",
        "\n",
        "lista_Supermercado.extend ([\"Leche\"])\n",
        "\n",
        "print(lista_Supermercado)\n",
        "\n",
        "lista_Supermercado.extend ([\"Huevos\"])\n",
        "print(lista_Supermercado)\n",
        "\n",
        "lista_Supermercado.extend ([\"Pan\"])\n",
        "print(lista_Supermercado)\n"
      ],
      "metadata": {
        "colab": {
          "base_uri": "https://localhost:8080/"
        },
        "id": "3IFkVS4ZdW_K",
        "outputId": "e677dbdb-6f6c-42c0-919c-61249e6ee07b"
      },
      "execution_count": null,
      "outputs": [
        {
          "output_type": "stream",
          "name": "stdout",
          "text": [
            "['Arroz']\n",
            "['Arroz', 'Leche']\n",
            "['Arroz', 'Leche', 'Huevos']\n",
            "['Arroz', 'Leche', 'Huevos', 'Pan']\n"
          ]
        }
      ]
    },
    {
      "cell_type": "markdown",
      "source": [
        "index() Devuelve el índice del primer elemento con el valor especificado"
      ],
      "metadata": {
        "id": "83AA-5z7d1Ey"
      }
    },
    {
      "cell_type": "code",
      "source": [
        "numero_de_carros = [\"Audi\", \"Chevrolet\", \"Logan\", \"Tesla\",]\n",
        "print(numero_de_carros.index(\"Audi\"))\n",
        "\n",
        "numero_de_carros = [\"Audi\", \"Chevrolet\", \"Logan\", \"Tesla\",]\n",
        "print(numero_de_carros.index(\"Chevrolet\"))\n",
        "\n",
        "numero_de_carros = [\"Audi\", \"Chevrolet\", \"Logan\", \"Tesla\",]\n",
        "print(numero_de_carros.index(\"Tesla\"))"
      ],
      "metadata": {
        "colab": {
          "base_uri": "https://localhost:8080/"
        },
        "id": "kkSbKbnBeIVi",
        "outputId": "09754841-199d-4cfc-c1a1-27b88e318975"
      },
      "execution_count": null,
      "outputs": [
        {
          "output_type": "stream",
          "name": "stdout",
          "text": [
            "0\n",
            "1\n",
            "3\n"
          ]
        }
      ]
    },
    {
      "cell_type": "markdown",
      "source": [
        "insert() Agrega un elemento en la posición especificada"
      ],
      "metadata": {
        "id": "Cjjf3iHahbDo"
      }
    },
    {
      "cell_type": "code",
      "source": [
        "mascotas = [\"Perro\", \"Gato\", \"Conejo\"]\n",
        "mascotas.insert(1, \"Pez\")\n",
        "print(mascotas)\n",
        "\n",
        "mascotas.insert(2, \"Hamster\")\n",
        "print(mascotas)\n",
        "\n",
        "mascotas.insert(3, \"Serpiente\")\n",
        "print(mascotas)"
      ],
      "metadata": {
        "colab": {
          "base_uri": "https://localhost:8080/"
        },
        "id": "drpm0VUBhgE8",
        "outputId": "726d5062-5eb2-4678-e4f7-e55cf0b1de79"
      },
      "execution_count": null,
      "outputs": [
        {
          "output_type": "stream",
          "name": "stdout",
          "text": [
            "['Perro', 'Pez', 'Gato', 'Conejo']\n",
            "['Perro', 'Pez', 'Hamster', 'Gato', 'Conejo']\n",
            "['Perro', 'Pez', 'Hamster', 'Serpiente', 'Gato', 'Conejo']\n"
          ]
        }
      ]
    },
    {
      "cell_type": "markdown",
      "source": [
        "pop() Elimina el elemento en la posición especificada"
      ],
      "metadata": {
        "id": "Fuh4MNfGncZO"
      }
    },
    {
      "cell_type": "code",
      "source": [
        "mascotas = [\"Perro\", \"Gato\", \"Conejo\", \"Raton\", \"Pez\", \"Hamster\", \"Serpiente\", \"Tortuga\"]\n",
        "\n",
        "mascotas.pop(0)\n",
        "print(mascotas)\n",
        "\n",
        "mascotas.pop(6)\n",
        "print(mascotas)\n",
        "\n",
        "mascotas.pop(3)\n",
        "print(mascotas)"
      ],
      "metadata": {
        "colab": {
          "base_uri": "https://localhost:8080/"
        },
        "id": "Mk_EeAwInkeB",
        "outputId": "ed46ae7f-aadd-4a3e-eb2a-c5431d961027"
      },
      "execution_count": null,
      "outputs": [
        {
          "output_type": "stream",
          "name": "stdout",
          "text": [
            "['Gato', 'Conejo', 'Raton', 'Pez', 'Hamster', 'Serpiente', 'Tortuga']\n",
            "['Gato', 'Conejo', 'Raton', 'Pez', 'Hamster', 'Serpiente']\n",
            "['Gato', 'Conejo', 'Raton', 'Hamster', 'Serpiente']\n"
          ]
        }
      ]
    },
    {
      "cell_type": "markdown",
      "source": [
        "remove() Elimina el primer elemento con el valor especificado"
      ],
      "metadata": {
        "id": "k4rCsYQVpR2s"
      }
    },
    {
      "cell_type": "code",
      "source": [
        "mascotas = [\"Perro\", \"Gato\", \"Conejo\", \"Raton\", \"Pez\", \"Hamster\", \"Serpiente\", \"Tortuga\"]\n",
        "\n",
        "mascotas.remove(\"Perro\")\n",
        "print(mascotas)\n",
        "\n",
        "mascotas.remove(\"Raton\")\n",
        "print(mascotas)\n",
        "\n",
        "mascotas.remove(\"Tortuga\")\n",
        "print(mascotas)\n"
      ],
      "metadata": {
        "colab": {
          "base_uri": "https://localhost:8080/"
        },
        "id": "G3AvGKVGpoND",
        "outputId": "2bf966e9-dc53-43b6-b54c-fa542cd5489f"
      },
      "execution_count": null,
      "outputs": [
        {
          "output_type": "stream",
          "name": "stdout",
          "text": [
            "['Gato', 'Conejo', 'Raton', 'Pez', 'Hamster', 'Serpiente', 'Tortuga']\n",
            "['Gato', 'Conejo', 'Pez', 'Hamster', 'Serpiente', 'Tortuga']\n",
            "['Gato', 'Conejo', 'Pez', 'Hamster', 'Serpiente']\n"
          ]
        }
      ]
    },
    {
      "cell_type": "markdown",
      "source": [
        "reverse() Invierte el orden de la lista"
      ],
      "metadata": {
        "id": "OG-cCLmzpxa4"
      }
    },
    {
      "cell_type": "code",
      "source": [
        "mascotas = [\"Perro\", \"Gato\", \"Conejo\", \"Raton\", \"Pez\", \"Hamster\", \"Serpiente\", \"Tortuga\"]\n",
        "mascotas.reverse()\n",
        "print(mascotas)\n",
        "\n",
        "numero_de_carros = [\"Audi\", \"Chevrolet\", \"Logan\", \"Tesla\",]\n",
        "numero_de_carros.reverse()\n",
        "print(numero_de_carros)\n",
        "\n",
        "Tussi = [\"keta\", \"Pilas\", \"Acidos\"]\n",
        "Tussi.reverse()\n",
        "print(Tussi)"
      ],
      "metadata": {
        "colab": {
          "base_uri": "https://localhost:8080/"
        },
        "id": "tNMVH5xip_1a",
        "outputId": "b8859e20-6761-46bd-b7bd-346cca525a1c"
      },
      "execution_count": null,
      "outputs": [
        {
          "output_type": "stream",
          "name": "stdout",
          "text": [
            "['Tortuga', 'Serpiente', 'Hamster', 'Pez', 'Raton', 'Conejo', 'Gato', 'Perro']\n",
            "['Tesla', 'Logan', 'Chevrolet', 'Audi']\n",
            "['Acidos', 'Pilas', 'keta']\n"
          ]
        }
      ]
    },
    {
      "cell_type": "markdown",
      "source": [
        "sort() Ordena la lista"
      ],
      "metadata": {
        "id": "GGNmgFjhqWQQ"
      }
    },
    {
      "cell_type": "code",
      "source": [
        "lista_numeros = [5, 4, 3, 2, 1]\n",
        "lista_numeros.sort()\n",
        "print(lista_numeros)\n",
        "\n",
        "Receta = [\"huevos\", \"pan\", \"leche\", \"azucar\", \"harina\"]\n",
        "Receta.sort()\n",
        "print(Receta)\n",
        "\n",
        "Apellidos_Estudiantes = [\"Llanos\", \"Bocanegra\", \"Topaga\"]\n",
        "Apellidos_Estudiantes.sort()\n",
        "print(Apellidos_Estudiantes)"
      ],
      "metadata": {
        "colab": {
          "base_uri": "https://localhost:8080/"
        },
        "id": "QvV5USGNqfqF",
        "outputId": "e675d1e7-f428-4d9b-aff8-7e96b6d5003d"
      },
      "execution_count": null,
      "outputs": [
        {
          "output_type": "stream",
          "name": "stdout",
          "text": [
            "[1, 2, 3, 4, 5]\n",
            "['azucar', 'harina', 'huevos', 'leche', 'pan']\n",
            "['Bocanegra', 'Llanos', 'Topaga']\n"
          ]
        }
      ]
    },
    {
      "cell_type": "markdown",
      "source": [
        "# **Python Dictionary Methods**"
      ],
      "metadata": {
        "id": "Im256qqUsT7y"
      }
    },
    {
      "cell_type": "markdown",
      "source": [
        "clear() Elimina todos los elementos del diccionario"
      ],
      "metadata": {
        "id": "HB9TrR8bsdI0"
      }
    },
    {
      "cell_type": "code",
      "source": [
        "Tipos_carros = {\n",
        "    \"color\": \"rojo\",\n",
        "    \"marca\": \"Audi\",\n",
        "    \"modelo\": \"R8\"\n",
        "}\n",
        "print(Tipos_carros)\n",
        "Tipos_carros.clear()\n",
        "print(Tipos_carros)\n",
        "\n",
        "Gatos = {\n",
        "    \"raza\": \"Amarillo\",\n",
        "    \"Genero\": \"Macho\",\n",
        "    \"edad\": \"3.5 años\"\n",
        "}\n",
        "print(Gatos)\n",
        "Gatos.clear()\n",
        "print(Gatos)\n",
        "\n",
        "\n",
        "Estudiante = {\n",
        "    \"Nombre\": \"Anderson\",\n",
        "    \"Apellido\": \"Robles\",\n",
        "    \"Edad\": \"20 años\"\n",
        "}\n",
        "print(Estudiante)\n",
        "Estudiante.clear()\n",
        "print(Estudiante)\n"
      ],
      "metadata": {
        "colab": {
          "base_uri": "https://localhost:8080/"
        },
        "id": "VjKfJTsFscuk",
        "outputId": "b04cc71d-f130-4fbf-c916-2c8e595a8c98"
      },
      "execution_count": null,
      "outputs": [
        {
          "output_type": "stream",
          "name": "stdout",
          "text": [
            "{'color': 'rojo', 'marca': 'Audi', 'modelo': 'R8'}\n",
            "{}\n",
            "{'raza': 'Amarillo', 'Genero': 'Macho', 'edad': '3.5 años'}\n",
            "{}\n",
            "{'Nombre': 'Anderson', 'Apellido': 'Robles', 'Edad': '20 años'}\n",
            "{}\n"
          ]
        }
      ]
    },
    {
      "cell_type": "markdown",
      "source": [
        "copy() Devuelve una copia del diccionario"
      ],
      "metadata": {
        "id": "GNMe0MYEvXgk"
      }
    },
    {
      "cell_type": "code",
      "source": [
        "Tipos_carros = {\n",
        "    \"color\": \"rojo\",\n",
        "    \"marca\": \"Audi\",\n",
        "    \"modelo\": \"R8\"\n",
        "}\n",
        "Tipos_carros_copia = Tipos_carros.copy()\n",
        "print(Tipos_carros)\n",
        "Tipos_carros.clear()\n",
        "print(Tipos_carros)\n",
        "Tipos_carros.copy()\n",
        "print(Tipos_carros_copia)\n",
        "\n",
        "Gatos = {\n",
        "    \"raza\": \"Amarillo\",\n",
        "    \"Genero\": \"Macho\",\n",
        "    \"edad\": \"3.5 años\"\n",
        "}\n",
        "Gatos_copia = Gatos.copy()\n",
        "print(Gatos)\n",
        "Gatos.clear()\n",
        "print(Gatos)\n",
        "Gatos.copy()\n",
        "print(Gatos_copia)\n",
        "\n",
        "Estudiantes = {\n",
        "    \"Nombre\": \"Anderson\",\n",
        "    \"Apellido\": \"Robles\",\n",
        "    \"Edad\": \"20 años\"\n",
        "}\n",
        "Estudiantes_copia = Estudiantes.copy()\n",
        "print(Estudiantes)\n",
        "Estudiantes.clear()\n",
        "print(Estudiantes)\n",
        "Estudiantes.copy()\n",
        "print(Estudiantes_copia)"
      ],
      "metadata": {
        "colab": {
          "base_uri": "https://localhost:8080/"
        },
        "id": "k2IIf79LvfMb",
        "outputId": "e4c838af-99b4-4950-e33e-97fbf326549c"
      },
      "execution_count": null,
      "outputs": [
        {
          "output_type": "stream",
          "name": "stdout",
          "text": [
            "{'color': 'rojo', 'marca': 'Audi', 'modelo': 'R8'}\n",
            "{}\n",
            "{'color': 'rojo', 'marca': 'Audi', 'modelo': 'R8'}\n",
            "{'raza': 'Amarillo', 'Genero': 'Macho', 'edad': '3.5 años'}\n",
            "{}\n",
            "{'raza': 'Amarillo', 'Genero': 'Macho', 'edad': '3.5 años'}\n",
            "{'Nombre': 'Anderson', 'Apellido': 'Robles', 'Edad': '20 años'}\n",
            "{}\n",
            "{'Nombre': 'Anderson', 'Apellido': 'Robles', 'Edad': '20 años'}\n"
          ]
        }
      ]
    },
    {
      "cell_type": "markdown",
      "source": [
        "fromkeys() Devuelve un diccionario con las claves y el valor especificados"
      ],
      "metadata": {
        "id": "O2ZZ3F7mxo8A"
      }
    },
    {
      "cell_type": "code",
      "source": [
        "Animales = (\"Gato\", \"Perro\", \"Conejo\")\n",
        "Cantidad = 5\n",
        "Animales_Cantidad = dict.fromkeys(Animales, Cantidad)\n",
        "print(Animales_Cantidad)\n",
        "\n",
        "Comida =(\"Hambuerguesa\", \"Pizza\", \"Sushi\")\n",
        "Cantidad = 2\n",
        "Comida_Cantidad = dict.fromkeys(Comida, Cantidad)\n",
        "print(Comida_Cantidad)\n",
        "\n",
        "Inventario = (\"Pantalon\", \"Camisa\", \"Zapato\")\n",
        "Cantidad = 1\n",
        "Inventario_Cantidad = dict.fromkeys(Inventario, Cantidad)\n",
        "print(Inventario_Cantidad)\n"
      ],
      "metadata": {
        "colab": {
          "base_uri": "https://localhost:8080/"
        },
        "id": "cmq5NXToxwfx",
        "outputId": "fdf085cd-273a-4919-fb96-98ca46b04059"
      },
      "execution_count": 6,
      "outputs": [
        {
          "output_type": "stream",
          "name": "stdout",
          "text": [
            "{'Gato': 5, 'Perro': 5, 'Conejo': 5}\n",
            "{'Hambuerguesa': 2, 'Pizza': 2, 'Sushi': 2}\n",
            "{'Pantalon': 1, 'Camisa': 1, 'Zapato': 1}\n"
          ]
        }
      ]
    },
    {
      "cell_type": "markdown",
      "source": [
        "get() Devuelve el valor de la clave especificada"
      ],
      "metadata": {
        "id": "6hSGckFlQ5O2"
      }
    },
    {
      "cell_type": "code",
      "source": [
        "carros = {\n",
        "    \"color\": \"rojo\",\n",
        "    \"marca\": \"Audi\",\n",
        "    \"modelo\": \"R8\"\n",
        "}\n",
        "x = carros.get(\"marca\")\n",
        "print(x)\n",
        "\n",
        "Gatos = {\n",
        "    \"raza\": \"Amarillo\",\n",
        "    \"Genero\": \"Macho\",\n",
        "    \"edad\": \"3.5 años\"\n",
        "}\n",
        "x = Gatos.get(\"Genero\")\n",
        "print(x)\n",
        "\n",
        "Estudiante = {\n",
        "    \"Nombre\": \"Anderson\",\n",
        "    \"Apellido\": \"Robles\",\n",
        "    \"Edad\": \"20 años\"\n",
        "}\n",
        "x = Estudiante.get(\"Nombre\")\n",
        "print(x)"
      ],
      "metadata": {
        "colab": {
          "base_uri": "https://localhost:8080/"
        },
        "id": "WY1kUx5ERGHO",
        "outputId": "f654ccc2-8bfa-494c-ae73-f6a372e38140"
      },
      "execution_count": 10,
      "outputs": [
        {
          "output_type": "stream",
          "name": "stdout",
          "text": [
            "Audi\n",
            "Macho\n",
            "Anderson\n"
          ]
        }
      ]
    },
    {
      "cell_type": "markdown",
      "source": [
        "items() Devuelve una lista que contiene una tupla para cada par de valores clave"
      ],
      "metadata": {
        "id": "ZL_1cwoIRYDa"
      }
    },
    {
      "cell_type": "code",
      "source": [
        "carros = {\n",
        "    \"color\": \"rojo\",\n",
        "    \"marca\": \"Audi\",\n",
        "    \"modelo\": \"R8\"\n",
        "}\n",
        "x = carros.items()\n",
        "print(x)\n",
        "\n",
        "Gatos = {\n",
        "    \"raza\": \"Amarillo\",\n",
        "    \"Genero\": \"Macho\",\n",
        "    \"edad\": \"3.5 años\"\n",
        "}\n",
        "x = Gatos.items()\n",
        "print(x)\n",
        "\n",
        "Estudiante = {\n",
        "    \"Nombre\": \"Anderson\",\n",
        "    \"Apellido\": \"Robles\",\n",
        "    \"Edad\": \"20 años\"\n",
        "}\n",
        "x = Estudiante.items()\n",
        "print(x)"
      ],
      "metadata": {
        "colab": {
          "base_uri": "https://localhost:8080/"
        },
        "id": "0EPNVhBwRe8L",
        "outputId": "cbaabdc0-d462-47cd-cb56-69899d500aba"
      },
      "execution_count": 12,
      "outputs": [
        {
          "output_type": "stream",
          "name": "stdout",
          "text": [
            "dict_items([('color', 'rojo'), ('marca', 'Audi'), ('modelo', 'R8')])\n",
            "dict_items([('raza', 'Amarillo'), ('Genero', 'Macho'), ('edad', '3.5 años')])\n",
            "dict_items([('Nombre', 'Anderson'), ('Apellido', 'Robles'), ('Edad', '20 años')])\n"
          ]
        }
      ]
    },
    {
      "cell_type": "markdown",
      "source": [
        "keys() Devuelve una lista que contiene las claves del diccionario"
      ],
      "metadata": {
        "id": "9SDv61MeRum-"
      }
    },
    {
      "cell_type": "code",
      "source": [
        "carros = {\n",
        "    \"color\": \"rojo\",\n",
        "    \"marca\": \"Audi\",\n",
        "    \"modelo\": \"R8\"\n",
        "}\n",
        "x = carros.keys()\n",
        "print(x)\n",
        "\n",
        "Gatos = {\n",
        "    \"raza\": \"Amarillo\",\n",
        "    \"Genero\": \"Macho\",\n",
        "    \"edad\": \"3.5 años\"\n",
        "}\n",
        "x = Gatos.keys()\n",
        "print(x)\n",
        "\n",
        "Estudiante = {\n",
        "    \"Nombre\": \"Anderson\",\n",
        "    \"Apellido\": \"Robles\",\n",
        "    \"Edad\": \"20 años\"\n",
        "}\n",
        "x = Estudiante.keys()\n",
        "print(x)\n"
      ],
      "metadata": {
        "colab": {
          "base_uri": "https://localhost:8080/"
        },
        "id": "fZjPLgE5R2E4",
        "outputId": "4aff20c3-678f-4e61-9a3d-7a61be08a879"
      },
      "execution_count": 14,
      "outputs": [
        {
          "output_type": "stream",
          "name": "stdout",
          "text": [
            "dict_keys(['color', 'marca', 'modelo'])\n",
            "dict_keys(['raza', 'Genero', 'edad'])\n",
            "dict_keys(['Nombre', 'Apellido', 'Edad'])\n"
          ]
        }
      ]
    },
    {
      "cell_type": "markdown",
      "source": [
        "pop() Elimina el elemento con la clave especificada"
      ],
      "metadata": {
        "id": "NykX2G_uSKTE"
      }
    },
    {
      "cell_type": "code",
      "source": [
        "carros = {\n",
        "    \"color\": \"rojo\",\n",
        "    \"marca\": \"Audi\",\n",
        "    \"modelo\": \"R8\"\n",
        "}\n",
        "carros.pop(\"marca\")\n",
        "print(carros)\n",
        "\n",
        "Gatos = {\n",
        "    \"raza\": \"Amarillo\",\n",
        "    \"Genero\": \"Macho\",\n",
        "    \"edad\": \"3.5 años\"\n",
        "}\n",
        "Gatos.pop(\"Genero\")\n",
        "print(Gatos)\n",
        "\n",
        "Estudiante = {\n",
        "    \"Nombre\": \"Anderson\",\n",
        "    \"Apellido\": \"Robles\",\n",
        "    \"Edad\": \"20 años\"\n",
        "}\n",
        "Estudiante.pop(\"Edad\")\n",
        "print(Estudiante)"
      ],
      "metadata": {
        "colab": {
          "base_uri": "https://localhost:8080/"
        },
        "id": "0QWcWR-OSYsD",
        "outputId": "43937642-b32c-4f27-8a4c-0fb201f9cbe2"
      },
      "execution_count": 16,
      "outputs": [
        {
          "output_type": "stream",
          "name": "stdout",
          "text": [
            "{'color': 'rojo', 'modelo': 'R8'}\n",
            "{'raza': 'Amarillo', 'edad': '3.5 años'}\n",
            "{'Nombre': 'Anderson', 'Apellido': 'Robles'}\n"
          ]
        }
      ]
    },
    {
      "cell_type": "markdown",
      "source": [
        "popitem() Elimina el último par clave-valor insertado"
      ],
      "metadata": {
        "id": "CMiG1NRqSk20"
      }
    },
    {
      "cell_type": "code",
      "source": [
        "carros = {\n",
        "    \"color\": \"rojo\",\n",
        "    \"marca\": \"Audi\",\n",
        "    \"modelo\": \"R8\"\n",
        "}\n",
        "carros.popitem()\n",
        "print(carros)\n",
        "\n",
        "Gatos = {\n",
        "    \"raza\": \"Amarillo\",\n",
        "    \"Genero\": \"Macho\",\n",
        "    \"edad\": \"3.5 años\"\n",
        "}\n",
        "Gatos.popitem()\n",
        "print(Gatos)\n",
        "\n",
        "Estudiante = {\n",
        "    \"Nombre\": \"Anderson\",\n",
        "    \"Apellido\": \"Robles\",\n",
        "    \"Edad\": \"20 años\"\n",
        "}\n",
        "Estudiante.popitem()\n",
        "print(Estudiante)"
      ],
      "metadata": {
        "colab": {
          "base_uri": "https://localhost:8080/"
        },
        "id": "3ReRjp02S5Ta",
        "outputId": "0a6f7399-c91c-44f5-e07e-a4486dc09fc1"
      },
      "execution_count": 18,
      "outputs": [
        {
          "output_type": "stream",
          "name": "stdout",
          "text": [
            "{'color': 'rojo', 'marca': 'Audi'}\n",
            "{'raza': 'Amarillo', 'Genero': 'Macho'}\n",
            "{'Nombre': 'Anderson', 'Apellido': 'Robles'}\n"
          ]
        }
      ]
    },
    {
      "cell_type": "markdown",
      "source": [
        "setdefault() Devuelve el valor de la clave especificada. Si la clave no existe: inserte la clave, con el valor especificado"
      ],
      "metadata": {
        "id": "Gg1PGIwKTE1a"
      }
    },
    {
      "cell_type": "code",
      "source": [
        "carros = {\n",
        "    \"color\": \"rojo\",\n",
        "    \"marca\": \"Audi\",\n",
        "    \"modelo\": \"R8\"\n",
        "}\n",
        "x = carros.setdefault(\"marca\", \"Tesla\")\n",
        "print(x)\n",
        "\n",
        "Gatos = {\n",
        "    \"raza\": \"Amarillo\",\n",
        "    \"Genero\": \"Macho\",\n",
        "    \"edad\": \"3.5 años\"\n",
        "}\n",
        "x = Gatos.setdefault(\"Genero\", \"Hembra\")\n",
        "print(x)\n",
        "\n",
        "Estudiante = {\n",
        "    \"Nombre\": \"Anderson\",\n",
        "    \"Apellido\": \"Robles\",\n",
        "    \"Edad\": \"20 años\"\n",
        "}\n",
        "x = Estudiante.setdefault(\"Nombre\", \"Pedro\")\n",
        "print(x)"
      ],
      "metadata": {
        "colab": {
          "base_uri": "https://localhost:8080/"
        },
        "id": "U7M1PgVHThsn",
        "outputId": "2d2dbee6-b2bb-4a94-f5aa-73f7289b7571"
      },
      "execution_count": 20,
      "outputs": [
        {
          "output_type": "stream",
          "name": "stdout",
          "text": [
            "Audi\n",
            "Macho\n",
            "Anderson\n"
          ]
        }
      ]
    },
    {
      "cell_type": "markdown",
      "source": [
        "update() Actualiza el diccionario con los pares clave-valor especificados"
      ],
      "metadata": {
        "id": "LQpymln2TtLN"
      }
    },
    {
      "cell_type": "code",
      "source": [
        "carros = {\n",
        "    \"color\": \"rojo\",\n",
        "    \"marca\": \"Audi\",\n",
        "    \"modelo\": \"R8\"\n",
        "}\n",
        "carros.update({\"color\": \"Negro\"})\n",
        "print(carros)\n",
        "\n",
        "Gatos = {\n",
        "    \"raza\": \"Amarillo\",\n",
        "    \"Genero\": \"Macho\",\n",
        "    \"edad\": \"3.5 años\"\n",
        "}\n",
        "Gatos.update({\"Nombre\": \"Konnor\"})\n",
        "print(Gatos)\n",
        "\n",
        "Estudiante = {\n",
        "    \"Nombre\": \"Anderson\",\n",
        "    \"Apellido\": \"Robles\",\n",
        "    \"Edad\": \"20 años\"\n",
        "}\n",
        "Estudiante.update({\"Tecnica\": \"ADSO\"})\n",
        "print(Estudiante)\n"
      ],
      "metadata": {
        "colab": {
          "base_uri": "https://localhost:8080/"
        },
        "id": "Oy2uQkOsUwCA",
        "outputId": "2bc7b6b2-aec3-4a80-b63d-fd86dea232d2"
      },
      "execution_count": 24,
      "outputs": [
        {
          "output_type": "stream",
          "name": "stdout",
          "text": [
            "{'color': 'Negro', 'marca': 'Audi', 'modelo': 'R8'}\n",
            "{'raza': 'Amarillo', 'Genero': 'Macho', 'edad': '3.5 años', 'Nombre': 'Konnor'}\n",
            "{'Nombre': 'Anderson', 'Apellido': 'Robles', 'Edad': '20 años', 'Tecnica': 'ADSO'}\n"
          ]
        }
      ]
    },
    {
      "cell_type": "markdown",
      "source": [
        "values() Devuelve una lista de todos los valores del diccionario"
      ],
      "metadata": {
        "id": "93lSoNaMVR4o"
      }
    },
    {
      "cell_type": "code",
      "source": [
        "carros = {\n",
        "    \"color\": \"rojo\",\n",
        "    \"marca\": \"Audi\",\n",
        "    \"modelo\": \"R8\"\n",
        "}\n",
        "x = carros.values()\n",
        "print(x)\n",
        "\n",
        "Gatos = {\n",
        "    \"raza\": \"Amarillo\",\n",
        "    \"Genero\": \"Macho\",\n",
        "    \"edad\": \"3.5 años\"\n",
        "}\n",
        "x = Gatos.values()\n",
        "print(x)\n",
        "\n",
        "Estudiante = {\n",
        "    \"Nombre\": \"Anderson\",\n",
        "    \"Apellido\": \"Robles\",\n",
        "    \"Edad\": \"20 años\"\n",
        "}\n",
        "x = Estudiante.values()\n",
        "print(x)"
      ],
      "metadata": {
        "colab": {
          "base_uri": "https://localhost:8080/"
        },
        "id": "A5f1T72hVYz9",
        "outputId": "c166efae-6a21-4584-f478-be656b21cca3"
      },
      "execution_count": 26,
      "outputs": [
        {
          "output_type": "stream",
          "name": "stdout",
          "text": [
            "dict_values(['rojo', 'Audi', 'R8'])\n",
            "dict_values(['Amarillo', 'Macho', '3.5 años'])\n",
            "dict_values(['Anderson', 'Robles', '20 años'])\n"
          ]
        }
      ]
    },
    {
      "cell_type": "markdown",
      "source": [
        "# Métodos de tupla de Python"
      ],
      "metadata": {
        "id": "va1Uh6DLVm2v"
      }
    },
    {
      "cell_type": "markdown",
      "source": [
        "count() Devuelve la cantidad de veces que aparece un valor específico en una tupla"
      ],
      "metadata": {
        "id": "dzJTJl3WVxY9"
      }
    },
    {
      "cell_type": "code",
      "source": [
        "numeros_random = (3, 9, 15, 28, 4, 18, 29, 7, 3, 15, 4)\n",
        "numeros = numeros_random.count(3)\n",
        "print(numeros)\n",
        "\n",
        "Animales = (\"gato\", \"perro\", \"gato\", \"pajaro\", \"leon\", \"leon\", \"gato\")\n",
        "cuantos_animales = Animales.count(\"gato\")\n",
        "print(cuantos_animales)\n",
        "\n",
        "numeros_x = (1, 22, 43, 4, 45, 4, 8, 8, 9, 20)\n",
        "cuantos_numeros = numeros_x.count(20)\n",
        "print(cuantos_numeros)"
      ],
      "metadata": {
        "colab": {
          "base_uri": "https://localhost:8080/"
        },
        "id": "Pt7OKZVuV4xN",
        "outputId": "80535ce9-c0a9-41fa-b5fe-5485089a654c"
      },
      "execution_count": 36,
      "outputs": [
        {
          "output_type": "stream",
          "name": "stdout",
          "text": [
            "2\n",
            "3\n",
            "1\n"
          ]
        }
      ]
    },
    {
      "cell_type": "markdown",
      "source": [
        "index() Busca en la tupla un valor específico y devuelve la posición donde se encontró"
      ],
      "metadata": {
        "id": "sSR-73hlXRSO"
      }
    },
    {
      "cell_type": "code",
      "source": [
        "letras = (\"a\", \"b\", \"c\", \"d\", \"e\", \"f\", \"g\")\n",
        "posicion_letra = letras.index(\"c\")\n",
        "print(posicion_letra)\n",
        "\n",
        "Animales = (\"gato\", \"perro\", \"gato\", \"pajaro\", \"leon\", \"leon\", \"gato\")\n",
        "posicion_gato = Animales.index(\"gato\")\n",
        "print(posicion_gato)\n",
        "\n",
        "numeros_x = (1, 22, 43, 4, 45, 4, 8, 8, 9, 20)\n",
        "posicion_numero = numeros_x.index(8)\n",
        "print(posicion_numero)\n"
      ],
      "metadata": {
        "colab": {
          "base_uri": "https://localhost:8080/"
        },
        "id": "eq1WXwxaXk_L",
        "outputId": "4477abf3-07a1-43aa-daff-8b3caf48bc5c"
      },
      "execution_count": 38,
      "outputs": [
        {
          "output_type": "stream",
          "name": "stdout",
          "text": [
            "2\n",
            "0\n",
            "6\n"
          ]
        }
      ]
    }
  ]
}